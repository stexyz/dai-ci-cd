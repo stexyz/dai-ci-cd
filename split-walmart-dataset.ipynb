{
 "cells": [
  {
   "cell_type": "code",
   "execution_count": null,
   "metadata": {},
   "outputs": [],
   "source": [
    "import pandas as pd \n",
    "walmart_train_data_set = pd.read_csv(\"data/walmart_train.csv\") "
   ]
  },
  {
   "cell_type": "code",
   "execution_count": null,
   "metadata": {},
   "outputs": [],
   "source": [
    "walmart_train_data_set.Date.unique()\n",
    "week1_date='2012-10-12'\n",
    "week2_date='2012-10-19'\n",
    "week3_date='2012-10-26'\n",
    "week1=walmart_train_data_set.loc[walmart_train_data_set['Date']==week1_date]\n",
    "week2=walmart_train_data_set.loc[walmart_train_data_set['Date']==week2_date]\n",
    "week3=walmart_train_data_set.loc[walmart_train_data_set['Date']==week3_date]\n",
    "train=walmart_train_data_set.loc[walmart_train_data_set['Date']<week1_date]"
   ]
  },
  {
   "cell_type": "code",
   "execution_count": null,
   "metadata": {},
   "outputs": [],
   "source": [
    "week1.to_csv('data/test-week1.csv')\n",
    "week2.to_csv('data/test-week2.csv')\n",
    "week3.to_csv('data/test-week3.csv')\n",
    "train.to_csv('data/train.csv')"
   ]
  }
 ],
 "metadata": {
  "kernelspec": {
   "display_name": "Python 3",
   "language": "python",
   "name": "python3"
  },
  "language_info": {
   "codemirror_mode": {
    "name": "ipython",
    "version": 3
   },
   "file_extension": ".py",
   "mimetype": "text/x-python",
   "name": "python",
   "nbconvert_exporter": "python",
   "pygments_lexer": "ipython3",
   "version": "3.6.4"
  }
 },
 "nbformat": 4,
 "nbformat_minor": 2
}
