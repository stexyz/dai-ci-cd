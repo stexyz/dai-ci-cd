{
 "cells": [
  {
   "cell_type": "code",
   "execution_count": 4,
   "metadata": {},
   "outputs": [],
   "source": [
    "# Load the Pandas libraries with alias 'pd' \n",
    "import pandas as pd \n",
    "# Read data from file 'filename.csv' \n",
    "# (in the same directory that your python process is based)\n",
    "# Control delimiters, rows, column names with read_csv (see later) \n",
    "walmart_test_data_set = pd.read_csv(\"data/walmart_test.csv\") "
   ]
  },
  {
   "cell_type": "code",
   "execution_count": 21,
   "metadata": {},
   "outputs": [],
   "source": [
    "walmart_test_data_set.Date.unique()\n",
    "week1_date='2012-11-02'\n",
    "week2_date='2012-11-09'\n",
    "week3_date='2012-11-16'\n",
    "week1=walmart_test_data_set.loc[walmart_test_data_set['Date']==week1_date]\n",
    "week2=walmart_test_data_set.loc[walmart_test_data_set['Date']==week2_date]\n",
    "week3=walmart_test_data_set.loc[walmart_test_data_set['Date']==week3_date]"
   ]
  },
  {
   "cell_type": "code",
   "execution_count": 24,
   "metadata": {},
   "outputs": [],
   "source": [
    "week1.to_csv('data/test-week1.csv')\n",
    "week2.to_csv('data/test-week2.csv')\n",
    "week3.to_csv('data/test-week3.csv')"
   ]
  }
 ],
 "metadata": {
  "kernelspec": {
   "display_name": "Python 3",
   "language": "python",
   "name": "python3"
  },
  "language_info": {
   "codemirror_mode": {
    "name": "ipython",
    "version": 3
   },
   "file_extension": ".py",
   "mimetype": "text/x-python",
   "name": "python",
   "nbconvert_exporter": "python",
   "pygments_lexer": "ipython3",
   "version": "3.6.4"
  }
 },
 "nbformat": 4,
 "nbformat_minor": 2
}
